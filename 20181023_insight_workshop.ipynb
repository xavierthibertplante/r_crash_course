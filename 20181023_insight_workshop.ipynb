{
 "cells": [
  {
   "cell_type": "markdown",
   "metadata": {},
   "source": [
    "## Page 9 of the handout"
   ]
  },
  {
   "cell_type": "code",
   "execution_count": null,
   "metadata": {},
   "outputs": [],
   "source": [
    "a <- 1\n",
    "a=1\n",
    "1 -> a\n",
    "b <-c(1,2,3)"
   ]
  },
  {
   "cell_type": "markdown",
   "metadata": {},
   "source": [
    "## Page 10 of the handout"
   ]
  },
  {
   "cell_type": "code",
   "execution_count": null,
   "metadata": {},
   "outputs": [],
   "source": [
    "a <- array(NA,dim=10)\n",
    "a[4] <- 5\n",
    "b <- matrix(NA,ncol=10,nrow=30)\n",
    "b[30,3]<-1"
   ]
  },
  {
   "cell_type": "markdown",
   "metadata": {},
   "source": [
    "## Page 11 of the handout"
   ]
  },
  {
   "cell_type": "code",
   "execution_count": null,
   "metadata": {},
   "outputs": [],
   "source": [
    "help(array)\n",
    "#help(matrix)"
   ]
  },
  {
   "cell_type": "markdown",
   "metadata": {},
   "source": [
    "## Page 12 of the handout"
   ]
  },
  {
   "cell_type": "code",
   "execution_count": null,
   "metadata": {},
   "outputs": [],
   "source": [
    "a<-array(seq(1,10,2))\n",
    "a<-array(rnorm(10,mean=15,sd=3))\n",
    "b<-matrix(seq(1,20),ncol=2,nrow=10)\n",
    "b<-matrix(runif(21),ncol=3,nrow=7)"
   ]
  },
  {
   "cell_type": "code",
   "execution_count": null,
   "metadata": {},
   "outputs": [],
   "source": [
    "c<-c(rnorm(5000,mean=10,sd=4), rnorm(5000,mean=15,sd=4))"
   ]
  },
  {
   "cell_type": "markdown",
   "metadata": {},
   "source": [
    "## Page 13 of the handout"
   ]
  },
  {
   "cell_type": "code",
   "execution_count": null,
   "metadata": {},
   "outputs": [],
   "source": [
    "\n",
    "a+a\n",
    "a+5\n",
    "1+b\n",
    "5*a\n",
    "a*a\n",
    "#a*b # dimension don't agree!\n",
    "b*b\n",
    "a-a\n",
    "a-5\n",
    "a/2"
   ]
  },
  {
   "cell_type": "markdown",
   "metadata": {},
   "source": [
    "## Page 18 of the handout"
   ]
  },
  {
   "cell_type": "code",
   "execution_count": null,
   "metadata": {},
   "outputs": [],
   "source": [
    "x<-read.csv(\"hendryEtAl.csv\")"
   ]
  },
  {
   "cell_type": "markdown",
   "metadata": {},
   "source": [
    "## Page 20 of the handout"
   ]
  },
  {
   "cell_type": "code",
   "execution_count": null,
   "metadata": {},
   "outputs": [],
   "source": [
    "length(x[,1])\n",
    "length(x[1,]) "
   ]
  },
  {
   "cell_type": "markdown",
   "metadata": {},
   "source": [
    "## Page 21 of the handout"
   ]
  },
  {
   "cell_type": "code",
   "execution_count": null,
   "metadata": {},
   "outputs": [],
   "source": [
    "x$Years\n",
    "x[,18]\n",
    "#   x$years # It is case sensitive"
   ]
  },
  {
   "cell_type": "code",
   "execution_count": null,
   "metadata": {},
   "outputs": [],
   "source": [
    "options(repr.plot.width=4, repr.plot.height=3)\n",
    "hist(x$Haldanes,breaks=100)"
   ]
  },
  {
   "cell_type": "markdown",
   "metadata": {},
   "source": [
    "## Page 25 of the handout"
   ]
  },
  {
   "cell_type": "code",
   "execution_count": null,
   "metadata": {},
   "outputs": [],
   "source": [
    "shapiro.test(x$Haldanes)"
   ]
  },
  {
   "cell_type": "code",
   "execution_count": null,
   "metadata": {},
   "outputs": [],
   "source": [
    "ks.test(x$Haldanes,\"pnorm\", \n",
    "            mean=mean(x$Haldanes,na.rm=T), \n",
    "             sd=sd(x$Haldanes,na.rm=T))"
   ]
  },
  {
   "cell_type": "markdown",
   "metadata": {},
   "source": [
    "## Page 26 of the handout"
   ]
  },
  {
   "cell_type": "code",
   "execution_count": null,
   "metadata": {},
   "outputs": [],
   "source": [
    "mydata<-read.csv(\"fruits.csv\")"
   ]
  },
  {
   "cell_type": "code",
   "execution_count": null,
   "metadata": {},
   "outputs": [],
   "source": [
    "str(mydata)"
   ]
  },
  {
   "cell_type": "code",
   "execution_count": null,
   "metadata": {},
   "outputs": [],
   "source": [
    "#aggregate(mydata$Fruit, list(mydata$State), mean)\n",
    "#aggregate(mydata$Fruit, list(State=mydata$State), mean)\n",
    "aggregate(x=mydata$Fruit, by=list(State=mydata$State), FUN=mean)\n",
    "# aggregate(mydata$Fruit, mydata$State, mean) # \"by\" must be a list, check help(aggregate)"
   ]
  },
  {
   "cell_type": "markdown",
   "metadata": {},
   "source": [
    "## Page 27 of the handout"
   ]
  },
  {
   "cell_type": "code",
   "execution_count": null,
   "metadata": {},
   "outputs": [],
   "source": [
    "n.fruit <- aggregate(mydata$Fruit, list(State=mydata$State), length)\n",
    "mean.fruit <- aggregate(mydata$Fruit, list(State=mydata$State), mean)\n",
    "sd.fruit <- aggregate(mydata$Fruit, list(State=mydata$State), sd)\n",
    "summary.table <- cbind(n.fruit[,2], mean.fruit[,2], sd.fruit[,2])\n",
    "dimnames(summary.table) <- list(n.fruit[,1], c(\"n\",\"mean\",\"SD\"))\n",
    "summary.table "
   ]
  },
  {
   "cell_type": "markdown",
   "metadata": {},
   "source": [
    "## Page 28 of the handout"
   ]
  },
  {
   "cell_type": "code",
   "execution_count": null,
   "metadata": {},
   "outputs": [],
   "source": [
    "mydata<-read.csv(\"gain.csv\")\n",
    "str(mydata)\n",
    "aggregate(mydata$growth, list(mydata$experiment,mydata$food), mean)\n",
    "mean.growth<-tapply(mydata$growth, list(mydata$experiment,mydata$food), mean)"
   ]
  },
  {
   "cell_type": "markdown",
   "metadata": {},
   "source": [
    "## Page 29 of the handout"
   ]
  },
  {
   "cell_type": "code",
   "execution_count": null,
   "metadata": {},
   "outputs": [],
   "source": [
    "mydata<-read.csv(\"fruits.csv\")\n",
    "n.fruit <- tapply(mydata$Fruit, list(State=mydata$State), length)\n",
    "mean.fruit <- tapply(mydata$Fruit, list(State=mydata$State), mean)\n",
    "sd.fruit <- tapply(mydata$Fruit, list(State=mydata$State), sd)\n",
    "barplot(mean.fruit)\n",
    "#    help(barplot)"
   ]
  },
  {
   "cell_type": "markdown",
   "metadata": {},
   "source": [
    "## Page 30 of the handout"
   ]
  },
  {
   "cell_type": "code",
   "execution_count": null,
   "metadata": {},
   "outputs": [],
   "source": [
    "barplot(mean.fruit,  \n",
    "          xlab=\"Treatment\",  \n",
    "          ylab=\"Fruit production\",\n",
    "          ylim=c(0,100))\n",
    "mids<-barplot(mean.fruit,  \n",
    "          xlab=\"Treatment\",  \n",
    "          ylab=\"Fruit production\" , \n",
    "          ylim=c(0,100))\n",
    "arrows(mids,mean.fruit+sd.fruit,  \n",
    "          mids, mean.fruit - sd.fruit)\n",
    "# help(arrows)"
   ]
  },
  {
   "cell_type": "markdown",
   "metadata": {},
   "source": [
    "## Page 31 of the handout"
   ]
  },
  {
   "cell_type": "code",
   "execution_count": null,
   "metadata": {},
   "outputs": [],
   "source": [
    "mids<-barplot(mean.fruit,  \n",
    "          xlab=\"Treatment\",  \n",
    "          ylab=\"Fruit production\"  ,\n",
    "          ylim=c(0,100))\n",
    "arrows(mids,mean.fruit+sd.fruit,  \n",
    "              mids, mean.fruit - sd.fruit,  \n",
    "              angle=90, code=3)\n",
    "text(mids,5, paste(\"N = \", n.fruit))"
   ]
  },
  {
   "cell_type": "markdown",
   "metadata": {},
   "source": [
    "## Page 32 of the handout"
   ]
  },
  {
   "cell_type": "code",
   "execution_count": null,
   "metadata": {},
   "outputs": [],
   "source": [
    "myData<-read.csv(\"gain.csv\")  \n",
    "mean.growth<-tapply(myData$growth, \n",
    "           list(myData$experiment,myData$food), \n",
    "           mean) \n",
    "sd.growth<-tapply(myData$growth, \n",
    "           list(myData$experiment,myData$food), \n",
    "           sd) \n",
    "n.growth<-tapply(myData$growth, \n",
    "           list(myData$experiment,myData$food), \n",
    "           length) \n",
    "barplot(mean.growth) "
   ]
  },
  {
   "cell_type": "markdown",
   "metadata": {},
   "source": [
    "## Page 33 of the handout"
   ]
  },
  {
   "cell_type": "code",
   "execution_count": null,
   "metadata": {},
   "outputs": [],
   "source": [
    "options(repr.plot.width=7, repr.plot.height=5)\n",
    "mids<- barplot(mean.growth,beside=T, \n",
    "       xlab=\"Food type\", \n",
    "       ylab=\"Gain\", \n",
    "       ylim=c(0,35), \n",
    "       col=grey(c(0,0.3,0.6,1))) \n",
    "arrows(mids, mean.growth+sd.growth, \n",
    "       mids, mean.growth-sd.growth, \n",
    "       angle=90, code=3, length=0.1) \n",
    "text(mids, 2, paste(n.growth), col=c(\"white\", rep(\"black\",3))) \n",
    "legend(\"topleft\", legend=rownames(mean.growth), fill=grey(c(0,0.3,0.6,1))) "
   ]
  },
  {
   "cell_type": "markdown",
   "metadata": {},
   "source": [
    "## Page 34 of the handout"
   ]
  },
  {
   "cell_type": "code",
   "execution_count": null,
   "metadata": {},
   "outputs": [],
   "source": [
    "options(repr.plot.width=4, repr.plot.height=3)\n",
    "mydata<-read.csv(\"fruits.csv\")\n",
    "#plot(mydata$Root, mydata$Fruit)\n",
    "#plot(mydata$Root, mydata$Fruit, xlab=\"Root size\", ylab=\"Fruit production\")  \n",
    "plot(mydata$Root, mydata$Fruit, xlab=\"Root size\", ylab=\"Fruit production\", pch=21,bg=\"grey\",cex=2.0) "
   ]
  },
  {
   "cell_type": "markdown",
   "metadata": {},
   "source": [
    "## Page 35 of the handout"
   ]
  },
  {
   "cell_type": "code",
   "execution_count": null,
   "metadata": {},
   "outputs": [],
   "source": [
    "options(repr.plot.width=6, repr.plot.height=5)\n",
    "clr<-ifelse(mydata$State == \"Eaten\", \"Green\",\"Blue\")\n",
    "plot(mydata$Root, mydata$Fruit, xlab=\"Root size\", ylab=\"Fruit production\", pch=21,bg=clr,cex=2.0) \n",
    "legend(\"topleft\", legend=c(\"Eaten\", \"Intact\"), pch=21, pt.bg=c(\"Green\", \"Blue\"), pt.cex=2.0)"
   ]
  },
  {
   "cell_type": "markdown",
   "metadata": {},
   "source": [
    "## Page 40 of the handout"
   ]
  },
  {
   "cell_type": "code",
   "execution_count": null,
   "metadata": {
    "scrolled": false
   },
   "outputs": [],
   "source": [
    "plot(1:10, xlab=expression(paste( \"Text, Greek \", lambda[subscript],\" \",\n",
    "and^{Power})), ylab=\"Simple text\", main=\"Complicated labelling\")"
   ]
  },
  {
   "cell_type": "markdown",
   "metadata": {},
   "source": [
    "## Page 45 of the handout"
   ]
  },
  {
   "cell_type": "code",
   "execution_count": null,
   "metadata": {},
   "outputs": [],
   "source": [
    "# lm(x$Haldanes~x$GLength)\n",
    "my.lm<-lm(x$Haldanes~ x$GLength)\n",
    "#summary(lm(x$Haldanes~ x$GLength))\n",
    "summary(my.lm)"
   ]
  },
  {
   "cell_type": "markdown",
   "metadata": {},
   "source": [
    "## Page 46 of the handout"
   ]
  },
  {
   "cell_type": "code",
   "execution_count": null,
   "metadata": {},
   "outputs": [],
   "source": [
    "attributes(my.lm)\n",
    "my.lm$residuals\n",
    "my.lm$coefficients"
   ]
  },
  {
   "cell_type": "markdown",
   "metadata": {},
   "source": [
    "## Page 47 of the handout"
   ]
  },
  {
   "cell_type": "code",
   "execution_count": null,
   "metadata": {},
   "outputs": [],
   "source": [
    "my.summ.lm<-summary(my.lm)\n",
    "attributes(my.summ.lm)\n",
    "my.summ.lm$r.squared\n",
    "my.summ.lm$fstatistic"
   ]
  },
  {
   "cell_type": "markdown",
   "metadata": {},
   "source": [
    "## Page 48 of the handout"
   ]
  },
  {
   "cell_type": "code",
   "execution_count": null,
   "metadata": {
    "scrolled": true
   },
   "outputs": [],
   "source": [
    "#plot(x$Years,x$Haldanes)\n",
    "plot(x$Years,abs(x$Haldanes),xlab=\"Years\", ylab=\"Haldanes\",main=\"Absolute values\")\n",
    "#plot(x$Years,abs(x$Haldanes),xlim=c(0,100), ylim=c(0,2))"
   ]
  },
  {
   "cell_type": "code",
   "execution_count": null,
   "metadata": {},
   "outputs": [],
   "source": [
    "plot(x$Haldanes~ x$GLength)\n",
    "#plot(x$GLength,x$Haldanes)"
   ]
  },
  {
   "cell_type": "markdown",
   "metadata": {},
   "source": [
    "## Page 49 of the handout"
   ]
  },
  {
   "cell_type": "code",
   "execution_count": null,
   "metadata": {},
   "outputs": [],
   "source": [
    "lm(x$HaldanesAbs~ x$GLength)\n",
    "summary(lm(x$HaldanesAbs~ x$GLength))"
   ]
  },
  {
   "cell_type": "code",
   "execution_count": null,
   "metadata": {},
   "outputs": [],
   "source": [
    "plot(x$HaldanesAbs~ x$GLength)"
   ]
  },
  {
   "cell_type": "code",
   "execution_count": null,
   "metadata": {},
   "outputs": [],
   "source": [
    "rg<-x$HaldanesAbs~ x$GLength\n",
    "plot(rg,xlab=\"Glength\",ylab=\"Absolute Haldanes\")\n",
    "abline(lm(rg))"
   ]
  },
  {
   "cell_type": "markdown",
   "metadata": {},
   "source": [
    "## Page 50 of the handout"
   ]
  },
  {
   "cell_type": "code",
   "execution_count": null,
   "metadata": {},
   "outputs": [],
   "source": [
    "m1<- x$HaldanesAbs~ x$GLength+x$Years\n",
    "m2<- x$HaldanesAbs~ x$GLength:x$Years\n",
    "m3<- x$HaldanesAbs~ x$GLength*x$Years\n",
    "m3<- x$HaldanesAbs~ x$GLength + x$Years + x$GLength:x$Years"
   ]
  },
  {
   "cell_type": "markdown",
   "metadata": {},
   "source": [
    "## Page 51 of the handout"
   ]
  },
  {
   "cell_type": "code",
   "execution_count": null,
   "metadata": {},
   "outputs": [],
   "source": [
    "z<-read.table(\"anova.txt\")\n",
    "names(z) <- c(\"response\", \"category\", \"replicat\", \"coVar\")\n",
    "attach(z)\n",
    "response\n",
    "detach(z)\n",
    "#response\n",
    "attach(z)"
   ]
  },
  {
   "cell_type": "markdown",
   "metadata": {},
   "source": [
    "## Page 52 of the handout"
   ]
  },
  {
   "cell_type": "code",
   "execution_count": null,
   "metadata": {},
   "outputs": [],
   "source": [
    "category<-factor(category)"
   ]
  },
  {
   "cell_type": "markdown",
   "metadata": {},
   "source": [
    "## Page 53 of the handout"
   ]
  },
  {
   "cell_type": "code",
   "execution_count": null,
   "metadata": {},
   "outputs": [],
   "source": [
    "mod1<-response~ category\n",
    "boxplot(mod1)\n",
    "mod1.lm<-lm(mod1)\n",
    "plot(mod1.lm)\n",
    "summary(mod1.lm)\n",
    "anova(mod1.lm)"
   ]
  },
  {
   "cell_type": "markdown",
   "metadata": {},
   "source": [
    "## Page 54 of the handout"
   ]
  },
  {
   "cell_type": "code",
   "execution_count": null,
   "metadata": {},
   "outputs": [],
   "source": [
    "as.factor(category)\n",
    "plot(response ~  coVar,pch=as.numeric(category))\n",
    "ResE<-response ~  coVar\n",
    "ResCD<-response ~  category+ coVar\n",
    "ResFull<-response ~  category+ coVar + category:coVar"
   ]
  },
  {
   "cell_type": "markdown",
   "metadata": {},
   "source": [
    "## Page 55 of the handout"
   ]
  },
  {
   "cell_type": "code",
   "execution_count": null,
   "metadata": {},
   "outputs": [],
   "source": [
    "ResE.lm<-lm(ResE)\n",
    "ResCD.lm<-lm(ResCD)\n",
    "ResFull.lm<-lm(ResFull)\n",
    "plot(ResE.lm)\n",
    "plot(ResCD.lm)\n",
    "plot(ResFull.lm)"
   ]
  },
  {
   "cell_type": "markdown",
   "metadata": {},
   "source": [
    "## Page 56 of the handout"
   ]
  },
  {
   "cell_type": "code",
   "execution_count": null,
   "metadata": {},
   "outputs": [],
   "source": [
    "summary(ResE.lm)\n",
    "summary(ResCD.lm)\n",
    "summary(ResFull.lm)\n",
    "anova(ResE.lm,ResFull.lm)\n",
    "anova(ResE.lm,ResCD.lm,ResFull.lm)"
   ]
  },
  {
   "cell_type": "markdown",
   "metadata": {},
   "source": [
    "## Page 57 of the handout"
   ]
  },
  {
   "cell_type": "code",
   "execution_count": null,
   "metadata": {},
   "outputs": [],
   "source": [
    "#tapply(response, category, var, na.rm=TRUE)\n",
    "tapply(response, category, function(x) shapiro.test(x))"
   ]
  },
  {
   "cell_type": "markdown",
   "metadata": {},
   "source": [
    "## Page 60 of the handout"
   ]
  },
  {
   "cell_type": "code",
   "execution_count": null,
   "metadata": {},
   "outputs": [],
   "source": [
    "x<- array(1,dim=10)\n",
    "for (i in seq(3,length(x))) {\n",
    "   x[i]<-x[i-1]+x[i-2]\n",
    "}\n",
    "x"
   ]
  },
  {
   "cell_type": "code",
   "execution_count": null,
   "metadata": {},
   "outputs": [],
   "source": [
    "x<- array(1,dim=10)\n",
    "i<-3\n",
    "while (i <= length(x)) {\n",
    "   x[i]<-x[i-1]+x[i-2]\n",
    "   i<-i+1\n",
    "}\n",
    "x"
   ]
  },
  {
   "cell_type": "markdown",
   "metadata": {},
   "source": [
    "## Page 63 of the handout"
   ]
  },
  {
   "cell_type": "code",
   "execution_count": null,
   "metadata": {},
   "outputs": [],
   "source": [
    "x<-25\n",
    "if (x>0) {\n",
    "   x<-x+1\n",
    "} else {\n",
    "   x<-x-1\n",
    "}\n",
    "x"
   ]
  },
  {
   "cell_type": "markdown",
   "metadata": {},
   "source": [
    "## Page 67 of the handout"
   ]
  },
  {
   "cell_type": "code",
   "execution_count": null,
   "metadata": {},
   "outputs": [],
   "source": [
    "x<-array(dim=1000)\n",
    "x[1]=0.5\n",
    "r<-3.7\n",
    "for (t in 2:length(x)){\n",
    "   x[t]<-r*x[t-1]*(1-x[t-1])\n",
    "}\n",
    "x"
   ]
  },
  {
   "cell_type": "markdown",
   "metadata": {},
   "source": [
    "## Page 68 of the handout"
   ]
  },
  {
   "cell_type": "code",
   "execution_count": null,
   "metadata": {},
   "outputs": [],
   "source": [
    "chaos <- function(time,r,popS){\n",
    "   x<-array(dim=time)\n",
    "   x[1]=popS\n",
    "   for (t in 2:length(x)){\n",
    "      x[t]<-r*x[t-1]*(1-x[t-1])\n",
    "   }\n",
    "   return(x)\n",
    "}"
   ]
  },
  {
   "cell_type": "markdown",
   "metadata": {},
   "source": [
    "## Page 69 of the handout"
   ]
  },
  {
   "cell_type": "code",
   "execution_count": null,
   "metadata": {},
   "outputs": [],
   "source": [
    "#chaos(1000,3.5,0.5)\n",
    "#c<-chaos(1000,3.5,0.5)\n",
    "#plot(c)\n",
    "plot(chaos(1000,3.5,0.5))"
   ]
  },
  {
   "cell_type": "code",
   "execution_count": null,
   "metadata": {},
   "outputs": [],
   "source": [
    "plot(x=2.5,y=0.5,xlim=c(2.5,3.9),ylim=c(0,1),col=0,xlab='r',ylab='Population Size')\n",
    "for (i in seq(2.5,3.9,by=0.01)){\n",
    "    tmp = chaos(1000,i,0.5)\n",
    "    tmp = unique(tmp[900:1000])\n",
    "    for (j in seq(1,length(tmp))){\n",
    "        points(i,tmp[j],cex=0.1)\n",
    "    }\n",
    "}"
   ]
  },
  {
   "cell_type": "markdown",
   "metadata": {},
   "source": [
    "## Page 71 of the handout"
   ]
  },
  {
   "cell_type": "code",
   "execution_count": null,
   "metadata": {},
   "outputs": [],
   "source": [
    "V1 <- as.vector(seq(1,10))\n",
    "V2 <- as.vector(rnorm(10))\n",
    "V3<- V1 * V2\n",
    "s1<- t(V1) %*% V2\n",
    "M1<- V1 %*% t(V2)"
   ]
  },
  {
   "cell_type": "markdown",
   "metadata": {},
   "source": [
    "## Page 72 of the handout"
   ]
  },
  {
   "cell_type": "code",
   "execution_count": null,
   "metadata": {},
   "outputs": [],
   "source": [
    "M3 <- matrix(c(1,2,3,4,5,6),ncol=3,nrow=2)\n",
    "M4 <- matrix(c(1,2,3,4,5,6),ncol=2,nrow=3)"
   ]
  },
  {
   "cell_type": "markdown",
   "metadata": {},
   "source": [
    "## Page 73 of the handout"
   ]
  },
  {
   "cell_type": "code",
   "execution_count": null,
   "metadata": {},
   "outputs": [],
   "source": [
    "M1 <- matrix(c(1,2,3,4,5,6), ncol=3, nrow=2)\n",
    "   V1 <- as.vector(c(7,8,9))\n",
    "   M1 %*% V1\n",
    "#    V1 %*% M1"
   ]
  },
  {
   "cell_type": "markdown",
   "metadata": {},
   "source": [
    "## Page 74 of the handout"
   ]
  },
  {
   "cell_type": "code",
   "execution_count": null,
   "metadata": {},
   "outputs": [],
   "source": [
    "M1 <- matrix(c(1,2,3,4,5,6), ncol=3, nrow=2)\n",
    "   V1 <- matrix(c(7,8,9,10,11,12),ncol=2,nrow=3)\n",
    "   M1 %*% V1\n",
    "#    V1 %*% M1"
   ]
  },
  {
   "cell_type": "markdown",
   "metadata": {},
   "source": [
    "## Page 76 of the handout"
   ]
  },
  {
   "cell_type": "code",
   "execution_count": null,
   "metadata": {},
   "outputs": [],
   "source": [
    "M1 <- matrix(c(0,0.7,0,0.63,0,0.2,0.702,0,0), ncol=3, nrow=3)\n",
    "V0 <- as.vector(c(1,0,0))\n",
    "for (i in 1:100){\n",
    "   V1<-M1 %*% V0\n",
    "   V0<-V1\n",
    "}\n",
    "prop<-V0/sum(V0)\n",
    "prop"
   ]
  },
  {
   "cell_type": "code",
   "execution_count": null,
   "metadata": {},
   "outputs": [],
   "source": [
    "M1 <- matrix(c(0,0.7,0,0.63,0,0.2,0.702,0,0), ncol=3, nrow=3)\n",
    "eigen(M1)\n",
    "################\n",
    "prop2<-eigen(M1)$vectors[,1]/sum(eigen(M1)$vectors[,1])\n",
    "################"
   ]
  },
  {
   "cell_type": "markdown",
   "metadata": {},
   "source": [
    "## Page 77 of the handout"
   ]
  },
  {
   "cell_type": "code",
   "execution_count": null,
   "metadata": {},
   "outputs": [],
   "source": [
    "M1 <- matrix(c(0,0.7,0,0.63,0,0.2,0.702,0,0), ncol=3, nrow=3)\n",
    "solve(M1)\n",
    "M1 %*% solve(M1)\n",
    "det(M1)\n",
    "diag(M1)"
   ]
  },
  {
   "cell_type": "markdown",
   "metadata": {},
   "source": [
    "## How to filter data"
   ]
  },
  {
   "cell_type": "code",
   "execution_count": null,
   "metadata": {},
   "outputs": [],
   "source": [
    "x<-read.csv(\"hendryEtAl.csv\")\n",
    "x$Years\n",
    "x$Years>100\n",
    "x$Years==111\n",
    "x$Years!=124\n",
    "cond<-x$Years>100\n",
    "x$Years[cond]\n",
    "x$Haldanes[cond]\n",
    "x$Haldanes[x$Years>100]"
   ]
  },
  {
   "cell_type": "code",
   "execution_count": null,
   "metadata": {},
   "outputs": [],
   "source": [
    "cond<-x$Years>100 & x$Years<113\n",
    "cond<-x$Years<100 | x$Years>113\n",
    "cond<-x$Years>100 & x$Haldanes>=0\n",
    "x$Years[cond]\n",
    "x$Haldanes[cond]"
   ]
  },
  {
   "cell_type": "code",
   "execution_count": null,
   "metadata": {},
   "outputs": [],
   "source": [
    "y<-array(1,length(x$Haldanes))\n",
    "y[x$Haldanes<0]<-2\n",
    "plot(x$Years,abs(x$Haldanes),col=y,xlab=\"Years\",ylab=\"Haldanes\")\n",
    "legend(\"topright\",c(\"positive\",\"negative\"), col=c(1,2),pch=c(1,1))"
   ]
  },
  {
   "cell_type": "code",
   "execution_count": null,
   "metadata": {},
   "outputs": [],
   "source": [
    "ls()"
   ]
  }
 ],
 "metadata": {
  "kernelspec": {
   "display_name": "R",
   "language": "R",
   "name": "ir"
  },
  "language_info": {
   "codemirror_mode": "r",
   "file_extension": ".r",
   "mimetype": "text/x-r-source",
   "name": "R",
   "pygments_lexer": "r",
   "version": "3.4.4"
  }
 },
 "nbformat": 4,
 "nbformat_minor": 2
}
